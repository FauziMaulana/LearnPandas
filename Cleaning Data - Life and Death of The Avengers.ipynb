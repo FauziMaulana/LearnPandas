{
 "cells": [
  {
   "cell_type": "markdown",
   "metadata": {},
   "source": [
    "# Cleaning Data - Life and Death of The Avengers"
   ]
  },
  {
   "cell_type": "markdown",
   "metadata": {},
   "source": [
    "## Objective"
   ]
  },
  {
   "cell_type": "markdown",
   "metadata": {},
   "source": [
    "Practicing Data Munging skills by cleaning up after the Avengers."
   ]
  },
  {
   "cell_type": "markdown",
   "metadata": {},
   "source": [
    "## Data Set"
   ]
  },
  {
   "cell_type": "markdown",
   "metadata": {},
   "source": [
    "![alt text](https://c1.staticflickr.com/9/8539/15770636041_d34f150d47_z.jpg)"
   ]
  },
  {
   "cell_type": "markdown",
   "metadata": {},
   "source": [
    "The Avengers are a well-known and widely-loved team of superheroes in the Marvel universe that were originally introduced in the 1960's comic book series. The recent Disney movies re-popularized them, as part of the new Marvel Cinematic Universe.\n",
    "\n",
    "\n",
    "Because the writers killed off and revived many of the superheroes, the team at FiveThirtyEight was curious to explore data from the [Marvel Wikia site](http://marvel.wikia.com/wiki/Main_Page) further. To learn how they collected their data, which is available in their [GitHub repository](https://github.com/fivethirtyeight/data/tree/master/avengers), read the write-up they published on the [FiveThirtyEight website](http://fivethirtyeight.com/features/avengers-death-comics-age-of-ultron/).\n",
    "\n",
    "The data set named avengers.csv, which details the deaths of Marvel comic book characters between the time they joined the Avengers and April 30, 2015, the week before Secret Wars #1.\n",
    "\n",
    "Here's the structures of the data:\n",
    "\n",
    "Column | Definition\n",
    "---|---------\n",
    "`URL`| The URL of the comic character on the Marvel Wikia\n",
    "`Name/Alias` | The full name or alias of the character\n",
    "`Appearances` | The number of comic books that character appeared in as of April 30 \n",
    "`Current?` | Is the member currently active on an avengers affiliated team?\n",
    "`Gender` | The recorded gender of the character\n",
    "`Probationary` | Sometimes the character was given probationary status as an Avenger, this is the date that happened\n",
    "`Full/Reserve` | The month and year the character was introduced as a full or reserve member of the Avnegers\n",
    "`Year` | The year the character was introduced as a full or reserve member of the Avengers\n",
    "`Years since joining` | 2015 minus the year\n",
    "`Honorary` | The status of the avenger, if they were given \"Honorary\" Avenger status, if they are simply in the \"Academy,\" or \"Full\" otherwise\n",
    "`Death1` | Yes if the Avenger died, No if not. \n",
    "`Return1` | Yes if the Avenger returned from their first death, No if  they did not, blank if not applicable\n",
    "`Death2` | Yes if the Avenger died a second time after their revival, No if they did not, blank if not applicable\n",
    "`Return2` | Yes if the Avenger returned from their second death, No if they did not, blank if not applicable\n",
    "`Death3` | Yes if the Avenger died a third time after their second revival, No if they did not, blank if not applicable\n",
    "`Return3` | Yes if the Avenger returned from their third death, No if they did not, blank if not applicable\n",
    "`Death4` | Yes if the Avenger died a fourth time after their third revival, No if they did not, blank if not applicable\n",
    "`Return4` | Yes if the Avenger returned from their fourth death, No if they did not, blank if not applicable\n",
    "`Death5` | Yes if the Avenger died a fifth time after their fourth revival, No if they did not, blank if not applicable\n",
    "`Return5` | Yes if the Avenger returned from their fifth death, No if they did not, blank if not applicable\n",
    "`Notes` | Descriptions of deaths and resurrections. \n"
   ]
  },
  {
   "cell_type": "markdown",
   "metadata": {},
   "source": [
    "## Exploring the Data"
   ]
  },
  {
   "cell_type": "code",
   "execution_count": 24,
   "metadata": {
    "collapsed": false,
    "scrolled": true
   },
   "outputs": [
    {
     "name": "stdout",
     "output_type": "stream",
     "text": [
      "                                                 URL  \\\n",
      "0      http://marvel.wikia.com/Henry_Pym_(Earth-616)   \n",
      "1  http://marvel.wikia.com/Janet_van_Dyne_(Earth-...   \n",
      "2  http://marvel.wikia.com/Anthony_Stark_(Earth-616)   \n",
      "3  http://marvel.wikia.com/Robert_Bruce_Banner_(E...   \n",
      "4   http://marvel.wikia.com/Thor_Odinson_(Earth-616)   \n",
      "\n",
      "                    Name/Alias  Appearances Current?  Gender  \\\n",
      "0    Henry Jonathan \"Hank\" Pym         1269      YES    MALE   \n",
      "1               Janet van Dyne         1165      YES  FEMALE   \n",
      "2  Anthony Edward \"Tony\" Stark         3068      YES    MALE   \n",
      "3          Robert Bruce Banner         2089      YES    MALE   \n",
      "4                 Thor Odinson         2402      YES    MALE   \n",
      "\n",
      "  Probationary Introl Full/Reserve Avengers Intro  Year  Years since joining  \\\n",
      "0                 NaN                      Sep-63  1963                   52   \n",
      "1                 NaN                      Sep-63  1963                   52   \n",
      "2                 NaN                      Sep-63  1963                   52   \n",
      "3                 NaN                      Sep-63  1963                   52   \n",
      "4                 NaN                      Sep-63  1963                   52   \n",
      "\n",
      "  Honorary                        ...                         Return1 Death2  \\\n",
      "0     Full                        ...                              NO    NaN   \n",
      "1     Full                        ...                             YES    NaN   \n",
      "2     Full                        ...                             YES    NaN   \n",
      "3     Full                        ...                             YES    NaN   \n",
      "4     Full                        ...                             YES    YES   \n",
      "\n",
      "  Return2 Death3 Return3 Death4 Return4 Death5 Return5  \\\n",
      "0     NaN    NaN     NaN    NaN     NaN    NaN     NaN   \n",
      "1     NaN    NaN     NaN    NaN     NaN    NaN     NaN   \n",
      "2     NaN    NaN     NaN    NaN     NaN    NaN     NaN   \n",
      "3     NaN    NaN     NaN    NaN     NaN    NaN     NaN   \n",
      "4      NO    NaN     NaN    NaN     NaN    NaN     NaN   \n",
      "\n",
      "                                               Notes  \n",
      "0  Merged with Ultron in Rage of Ultron Vol. 1. A...  \n",
      "1  Dies in Secret Invasion V1:I8. Actually was se...  \n",
      "2  Death: \"Later while under the influence of Imm...  \n",
      "3  Dies in Ghosts of the Future arc. However \"he ...  \n",
      "4  Dies in Fear Itself brought back because that'...  \n",
      "\n",
      "[5 rows x 21 columns]\n",
      "(173, 21)\n"
     ]
    }
   ],
   "source": [
    "import pandas as pd\n",
    "avengers = pd.read_csv(\"C:/Users/i7/csv/avengers.csv\", encoding=\"latin1\")\n",
    "print(avengers.head(5))\n",
    "print(avengers.shape)"
   ]
  },
  {
   "cell_type": "markdown",
   "metadata": {},
   "source": [
    "## Filtering Out Bad Data"
   ]
  },
  {
   "cell_type": "markdown",
   "metadata": {},
   "source": [
    "Remove all of the Avengers introduced before 1960 from the dataframe. (the Avengers weren't introduced in the comic series until the 1960's!)"
   ]
  },
  {
   "cell_type": "code",
   "execution_count": 11,
   "metadata": {
    "collapsed": false
   },
   "outputs": [
    {
     "data": {
      "text/plain": [
       "<matplotlib.axes._subplots.AxesSubplot at 0xa0ba710>"
      ]
     },
     "execution_count": 11,
     "metadata": {},
     "output_type": "execute_result"
    },
    {
     "data": {
      "image/png": "[encoded data removed]",
      "text/plain": [
       "<matplotlib.figure.Figure at 0x98a7898>"
      ]
     },
     "metadata": {},
     "output_type": "display_data"
    }
   ],
   "source": [
    "import matplotlib.pyplot as plt\n",
    "%matplotlib inline\n",
    "avengers[\"Year\"].hist()"
   ]
  },
  {
   "cell_type": "code",
   "execution_count": 12,
   "metadata": {
    "collapsed": false
   },
   "outputs": [
    {
     "data": {
      "text/plain": [
       "<matplotlib.axes._subplots.AxesSubplot at 0xa2746a0>"
      ]
     },
     "execution_count": 12,
     "metadata": {},
     "output_type": "execute_result"
    },
    {
     "data": {
      "image/png": "[encoded data removed]",
      "text/plain": [
       "<matplotlib.figure.Figure at 0x98a7710>"
      ]
     },
     "metadata": {},
     "output_type": "display_data"
    }
   ],
   "source": [
    "true_avengers = avengers[avengers[\"Year\"] > 1959]\n",
    "true_avengers[\"Year\"].hist()"
   ]
  },
  {
   "cell_type": "markdown",
   "metadata": {},
   "source": [
    "## Consolidating Deaths"
   ]
  },
  {
   "cell_type": "markdown",
   "metadata": {},
   "source": [
    "Create a new column, Deaths, that contains the number of times each superhero died. "
   ]
  },
  {
   "cell_type": "code",
   "execution_count": 25,
   "metadata": {
    "collapsed": false
   },
   "outputs": [],
   "source": [
    "def clean_deaths(row):\n",
    "    num_deaths = 0\n",
    "    columns = ['Death1', 'Death2', 'Death3', 'Death4', 'Death5']\n",
    "    \n",
    "    for each in columns:\n",
    "        death = row[each]\n",
    "        if pd.isnull(death) or death=='NO':\n",
    "            continue\n",
    "        elif death == 'YES':\n",
    "            num_deaths += 1\n",
    "    return num_deaths\n",
    "\n",
    "true_avengers['Deaths'] = true_avengers.apply(clean_deaths, axis=1)"
   ]
  },
  {
   "cell_type": "markdown",
   "metadata": {},
   "source": [
    "## Verifying Years Since Joining"
   ]
  },
  {
   "cell_type": "markdown",
   "metadata": {},
   "source": [
    "Verify that the Years since joining field accurately reflects the Year column. "
   ]
  },
  {
   "cell_type": "code",
   "execution_count": 26,
   "metadata": {
    "collapsed": false
   },
   "outputs": [
    {
     "data": {
      "text/plain": [
       "159"
      ]
     },
     "execution_count": 26,
     "metadata": {},
     "output_type": "execute_result"
    }
   ],
   "source": [
    "joined_accuracy_count  = int()\n",
    "correct_joined_years = true_avengers[true_avengers['Years since joining'] == (2015 - true_avengers['Year'])]\n",
    "joined_accuracy_count = len(correct_joined_years)\n",
    "joined_accuracy_count"
   ]
  }
 ],
 "metadata": {
  "kernelspec": {
   "display_name": "Python 3",
   "language": "python",
   "name": "python3"
  },
  "language_info": {
   "codemirror_mode": {
    "name": "ipython",
    "version": 3
   },
   "file_extension": ".py",
   "mimetype": "text/x-python",
   "name": "python",
   "nbconvert_exporter": "python",
   "pygments_lexer": "ipython3",
   "version": "3.6.0"
  }
 },
 "nbformat": 4,
 "nbformat_minor": 2
}
